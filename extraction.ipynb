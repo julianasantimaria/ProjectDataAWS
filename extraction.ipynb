{
 "cells": [
  {
   "cell_type": "code",
   "execution_count": null,
   "id": "0f847f6d-c1d7-4393-a5c3-161f31c1a9a4",
   "metadata": {},
   "outputs": [],
   "source": [
    "import os\n",
    "import urllib.request"
   ]
  },
  {
   "cell_type": "code",
   "execution_count": null,
   "id": "350fbae3-6450-49bc-b84a-d7a944ed111b",
   "metadata": {},
   "outputs": [],
   "source": [
    "data_dir = os.path.expanduser(\"/Users/julianasantimaria/Desktop/ProjetosGitHub/ProjectAWS/data\")"
   ]
  },
  {
   "cell_type": "code",
   "execution_count": null,
   "id": "95054271-56cb-4522-9acd-fd688f257f80",
   "metadata": {},
   "outputs": [],
   "source": [
    "def extract_data(url, filename):\n",
    "    try:\n",
    "        urllib.request.urlretrieve(url, filename)\n",
    "    except Exception as e:\n",
    "        print(e)"
   ]
  },
  {
   "cell_type": "code",
   "execution_count": null,
   "id": "34eb1292-f5de-4586-90a1-ab96343056d3",
   "metadata": {},
   "outputs": [],
   "source": [
    "extract_data(\"https://data.boston.gov/dataset/8048697b-ad64-4bfc-b090-ee00169f2323/resource/c9509ab4-6f6d-4b97-979a-0cf2a10c922b/download/tmphrybkxuh.csv\", os.path.join(data_dir, \"data_2015.csv\"))\n",
    "extract_data(\"https://data.boston.gov/dataset/8048697b-ad64-4bfc-b090-ee00169f2323/resource/b7ea6b1b-3ca4-4c5b-9713-6dc1db52379a/download/tmpzxzxeqfb.csv\", os.path.join(data_dir, \"data_2016.csv\"))\n",
    "extract_data(\"https://data.boston.gov/dataset/8048697b-ad64-4bfc-b090-ee00169f2323/resource/30022137-709d-465e-baae-ca155b51927d/download/tmpzccn8u4q.csv\", os.path.join(data_dir, \"data_2017.csv\"))\n",
    "extract_data(\"https://data.boston.gov/dataset/8048697b-ad64-4bfc-b090-ee00169f2323/resource/2be28d90-3a90-4af1-a3f6-f28c1e25880a/download/tmp7602cia8.csv\", os.path.join(data_dir, \"data_2018.csv\"))\n",
    "extract_data(\"https://data.boston.gov/dataset/8048697b-ad64-4bfc-b090-ee00169f2323/resource/ea2e4696-4a2d-429c-9807-d02eb92e0222/download/tmpcje3ep_w.csv\", os.path.join(data_dir, \"data_2019.csv\"))\n",
    "extract_data(\"https://data.boston.gov/dataset/8048697b-ad64-4bfc-b090-ee00169f2323/resource/6ff6a6fd-3141-4440-a880-6f60a37fe789/download/tmpcv_10m2s.csv\", os.path.join(data_dir, \"data_2020.csv\"))\n"
   ]
  },
  {
   "cell_type": "code",
   "execution_count": null,
   "id": "c77fd8f5-639e-4fcb-8da1-586b2b932381",
   "metadata": {},
   "outputs": [],
   "source": [
    "arquivos = [\n",
    "    os.path.join(data_dir, \"data_2015.csv\"),\n",
    "    os.path.join(data_dir, \"data_2016.csv\"),\n",
    "    os.path.join(data_dir, \"data_2017.csv\"),\n",
    "    os.path.join(data_dir, \"data_2018.csv\"),\n",
    "    os.path.join(data_dir, \"data_2019.csv\"),\n",
    "    os.path.join(data_dir, \"data_2020.csv\"),\n",
    "]\n",
    "\n",
    "print(\"Arquivos baixados:\", arquivos)"
   ]
  },
  {
   "cell_type": "code",
   "execution_count": null,
   "id": "37315cbd-0238-44c3-9b27-3c3efc0a6b2c",
   "metadata": {},
   "outputs": [],
   "source": [
    "dfs = {}"
   ]
  },
  {
   "cell_type": "code",
   "execution_count": null,
   "id": "0b45511b-8dac-4b5a-9cbd-393f5e02385d",
   "metadata": {},
   "outputs": [],
   "source": [
    "import pandas as pd\n",
    "\n",
    "for arquivo in arquivos:\n",
    "  ano = arquivo.split(\"_\")[-1].split(\".\")[0]\n",
    "  dfs[ano] = pd.read_csv(arquivo)"
   ]
  },
  {
   "cell_type": "code",
   "execution_count": null,
   "id": "89ef05f3-2d6c-48bc-80dd-f14e2e4d7b11",
   "metadata": {},
   "outputs": [],
   "source": [
    "dfs[\"2018\"].head()"
   ]
  },
  {
   "cell_type": "markdown",
   "id": "4039b9a9-dc15-43a7-a91b-236fcfd71d36",
   "metadata": {},
   "source": [
    "CONECTANDO A CONTA DE ARMAZENAMENTO"
   ]
  },
  {
   "cell_type": "code",
   "execution_count": null,
   "id": "2aca2a82-30ca-4802-8b7c-7b8d5fd00a5e",
   "metadata": {},
   "outputs": [],
   "source": [
    "pip install boto3"
   ]
  },
  {
   "cell_type": "code",
   "execution_count": null,
   "id": "e1047039-0e2d-40e5-b722-1a53f377d209",
   "metadata": {},
   "outputs": [],
   "source": [
    "load_dotenv()"
   ]
  },
  {
   "cell_type": "code",
   "execution_count": null,
   "id": "c54e5f2b-1ac9-4964-a03b-e61dd62c28ac",
   "metadata": {},
   "outputs": [],
   "source": [
    "import boto3\n",
    "\n",
    "aws_access_key_id = \"aws_access_key_id\"\n",
    "aws_secret_access_key = \"aws_secret_access_key\"\n",
    "region_name = \"us-east-1\"\n",
    "\n",
    "boto3.setup_default_session(\n",
    "    aws_access_key_id = aws_access_key_id,\n",
    "    aws_secret_access_key = aws_secret_access_key,\n",
    "    region_name = region_name,\n",
    ")\n",
    "\n",
    "s3 = boto3.client(\"s3\")"
   ]
  },
  {
   "cell_type": "code",
   "execution_count": null,
   "id": "883b4ab3-6770-4f2b-8fde-2fd05959e241",
   "metadata": {},
   "outputs": [],
   "source": [
    "content = \"\"\"\n",
    "Olá, S3\n",
    "\"\"\"\n",
    "\n",
    "with open(\"hello-s3.txt\", \"w+\") as f:\n",
    "  f.write(content)"
   ]
  },
  {
   "cell_type": "code",
   "execution_count": null,
   "id": "06f85906-5780-489e-abae-bcd58299d941",
   "metadata": {},
   "outputs": [],
   "source": [
    "s3.upload_file(\"hello-s3.txt\", \"dtboston-datalake-juliana\", \"bronze/hello-s3\")"
   ]
  },
  {
   "cell_type": "code",
   "execution_count": null,
   "id": "f47a3ff9-23ff-42f7-b489-7436ae069deb",
   "metadata": {},
   "outputs": [],
   "source": [
    "from io import BytesIO"
   ]
  },
  {
   "cell_type": "code",
   "execution_count": null,
   "id": "a28a259b-8627-40ae-92b9-c815fa8919db",
   "metadata": {},
   "outputs": [],
   "source": [
    "for ano, df in dfs.items():\n",
    "  parquet_buffer = BytesIO()\n",
    "  df.to_parquet(parquet_buffer)\n",
    "\n",
    "  s3.put_object(\n",
    "    Bucket=\"dtboston-datalake-juliana\",\n",
    "    Key=f\"bronze/dados_{ano}.parquet\",\n",
    "    Body=parquet_buffer.getvalue(),\n",
    "  )\n",
    "\n",
    "  response = s3.list_objects(Bucket=\"dtboston-datalake-juliana\")\n",
    "\n",
    "  keys = [obj[\"Key\"] for obj in response [\"Contents\"]]\n",
    "  print(keys)"
   ]
  },
  {
   "cell_type": "code",
   "execution_count": null,
   "id": "71e07ab8-abf7-4596-afb2-f023c4f9ea96",
   "metadata": {},
   "outputs": [],
   "source": [
    "response = s3.list_objects(Bucket=\"dtboston-datalake-juliana\")"
   ]
  },
  {
   "cell_type": "code",
   "execution_count": null,
   "id": "6e4c4bfb-1761-4b99-a433-5d22303b379b",
   "metadata": {},
   "outputs": [],
   "source": [
    "keys = [obj[\"Key\"] for obj in response[\"Contents\"]]\n",
    "print(Keys)"
   ]
  }
 ],
 "metadata": {
  "kernelspec": {
   "display_name": "Python 3 (ipykernel)",
   "language": "python",
   "name": "python3"
  },
  "language_info": {
   "codemirror_mode": {
    "name": "ipython",
    "version": 3
   },
   "file_extension": ".py",
   "mimetype": "text/x-python",
   "name": "python",
   "nbconvert_exporter": "python",
   "pygments_lexer": "ipython3",
   "version": "3.9.19"
  }
 },
 "nbformat": 4,
 "nbformat_minor": 5
}
